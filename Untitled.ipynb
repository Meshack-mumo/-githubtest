{
 "cells": [
  {
   "cell_type": "code",
   "execution_count": 155,
   "id": "1ebb4a62-7e1b-429d-abd0-9851b1c82189",
   "metadata": {},
   "outputs": [],
   "source": [
    "import pandas as pd\n",
    "import numpy as np\n",
    "import matplotlib.pyplot as plt\n",
    "from sklearn.preprocessing import MinMaxScaler\n",
    "import seaborn as sns"
   ]
  },
  {
   "cell_type": "code",
   "execution_count": 157,
   "id": "5e17d0c0-51bb-4bdf-b43f-da103b2e032b",
   "metadata": {},
   "outputs": [],
   "source": [
    "df=pd.DataFrame"
   ]
  },
  {
   "cell_type": "code",
   "execution_count": 159,
   "id": "d3becaab-3c88-4c09-a10e-296be8577a20",
   "metadata": {},
   "outputs": [
    {
     "data": {
      "text/plain": [
       "Index(['Poster_Link', 'Series_Title', 'Released_Year', 'Certificate',\n",
       "       'Runtime', 'Genre', 'IMDB_Rating', 'Overview', 'Meta_score', 'Director',\n",
       "       'Star1', 'Star2', 'Star3', 'Star4', 'No_of_Votes', 'Gross'],\n",
       "      dtype='object')"
      ]
     },
     "execution_count": 159,
     "metadata": {},
     "output_type": "execute_result"
    }
   ],
   "source": [
    "df=pd.read_csv(r\"C:\\Users\\Admin\\Downloads\\archive (1)\\imdb_top_1000.csv\")\n",
    "df.columns"
   ]
  },
  {
   "cell_type": "code",
   "execution_count": 161,
   "id": "38f77401-2008-453d-b089-8a0652747b91",
   "metadata": {},
   "outputs": [
    {
     "data": {
      "text/plain": [
       "(1000, 16)"
      ]
     },
     "execution_count": 161,
     "metadata": {},
     "output_type": "execute_result"
    }
   ],
   "source": [
    "df.shape"
   ]
  },
  {
   "cell_type": "code",
   "execution_count": null,
   "id": "89c98623-fb40-438d-9b96-c94040e3a486",
   "metadata": {},
   "outputs": [],
   "source": []
  },
  {
   "cell_type": "code",
   "execution_count": 164,
   "id": "588bf5c6-fb47-47f8-8736-d432335762a5",
   "metadata": {},
   "outputs": [],
   "source": [
    "df=df[[ #'Poster_Link',\n",
    "    'Series_Title', 'Released_Year', #'Certificate',\n",
    "       'Runtime', 'Genre', 'IMDB_Rating',# 'Overview', 'Meta_score',\n",
    "     #'Director',\n",
    "      # 'Star1', 'Star2', 'Star3', 'Star4', \n",
    "    'No_of_Votes','Gross'  ]].copy()"
   ]
  },
  {
   "cell_type": "code",
   "execution_count": 166,
   "id": "20d5da12-16cf-401b-a98a-0055fe0c90bb",
   "metadata": {},
   "outputs": [
    {
     "name": "stdout",
     "output_type": "stream",
     "text": [
      "<class 'pandas.core.frame.DataFrame'>\n"
     ]
    }
   ],
   "source": [
    "print(type(df))"
   ]
  },
  {
   "cell_type": "code",
   "execution_count": 168,
   "id": "80eb5df6-66df-412a-a3d8-b3f8442e4187",
   "metadata": {},
   "outputs": [
    {
     "data": {
      "text/plain": [
       "Index(['Series_Title', 'Released_Year', 'Runtime', 'Genre', 'IMDB_Rating',\n",
       "       'No_of_Votes', 'Gross'],\n",
       "      dtype='object')"
      ]
     },
     "execution_count": 168,
     "metadata": {},
     "output_type": "execute_result"
    }
   ],
   "source": [
    "df.columns"
   ]
  },
  {
   "cell_type": "code",
   "execution_count": 170,
   "id": "e775a387-61d5-4eb5-9496-542a1e3c90ac",
   "metadata": {},
   "outputs": [],
   "source": [
    "missing_value=df.isnull().sum()"
   ]
  },
  {
   "cell_type": "code",
   "execution_count": 172,
   "id": "3f2b5c27-3eac-4a19-91cb-2fa1a30e59ca",
   "metadata": {},
   "outputs": [
    {
     "name": "stdout",
     "output_type": "stream",
     "text": [
      "The number of missing values is: Series_Title       0\n",
      "Released_Year      0\n",
      "Runtime            0\n",
      "Genre              0\n",
      "IMDB_Rating        0\n",
      "No_of_Votes        0\n",
      "Gross            169\n",
      "dtype: int64\n"
     ]
    }
   ],
   "source": [
    "print(\"The number of missing values is:\" ,missing_value)"
   ]
  },
  {
   "cell_type": "code",
   "execution_count": 174,
   "id": "22e1ca61-a988-4149-8667-fb77d25be9a4",
   "metadata": {},
   "outputs": [],
   "source": [
    "df.fillna(0, inplace=True)"
   ]
  },
  {
   "cell_type": "code",
   "execution_count": 176,
   "id": "b79634af-3a7d-4167-8242-1e6c95bbc049",
   "metadata": {},
   "outputs": [
    {
     "name": "stdout",
     "output_type": "stream",
     "text": [
      "Series_Title     0\n",
      "Released_Year    0\n",
      "Runtime          0\n",
      "Genre            0\n",
      "IMDB_Rating      0\n",
      "No_of_Votes      0\n",
      "Gross            0\n",
      "dtype: int64\n"
     ]
    }
   ],
   "source": [
    "print(df.isnull().sum())"
   ]
  },
  {
   "cell_type": "code",
   "execution_count": null,
   "id": "0b13cc2a-0528-4d4e-b3c6-5bcbe5b1dab9",
   "metadata": {},
   "outputs": [],
   "source": []
  },
  {
   "cell_type": "code",
   "execution_count": 179,
   "id": "052b7e93-ba14-49df-a9b4-11deec926c1d",
   "metadata": {},
   "outputs": [],
   "source": []
  },
  {
   "cell_type": "code",
   "execution_count": 199,
   "id": "2a2c4a15-6803-408f-a4f0-a430cef05121",
   "metadata": {},
   "outputs": [
    {
     "data": {
      "text/html": [
       "<div>\n",
       "<style scoped>\n",
       "    .dataframe tbody tr th:only-of-type {\n",
       "        vertical-align: middle;\n",
       "    }\n",
       "\n",
       "    .dataframe tbody tr th {\n",
       "        vertical-align: top;\n",
       "    }\n",
       "\n",
       "    .dataframe thead th {\n",
       "        text-align: right;\n",
       "    }\n",
       "</style>\n",
       "<table border=\"1\" class=\"dataframe\">\n",
       "  <thead>\n",
       "    <tr style=\"text-align: right;\">\n",
       "      <th></th>\n",
       "      <th>Series_Title</th>\n",
       "      <th>Released_Year</th>\n",
       "      <th>Runtime</th>\n",
       "      <th>Genre</th>\n",
       "      <th>IMDB_Rating</th>\n",
       "      <th>No_of_Votes</th>\n",
       "      <th>Gross</th>\n",
       "    </tr>\n",
       "  </thead>\n",
       "  <tbody>\n",
       "    <tr>\n",
       "      <th>0</th>\n",
       "      <td>The Shawshank Redemption</td>\n",
       "      <td>1994</td>\n",
       "      <td>142 min</td>\n",
       "      <td>[Drama]</td>\n",
       "      <td>1.000000</td>\n",
       "      <td>1.000000</td>\n",
       "      <td>28341469</td>\n",
       "    </tr>\n",
       "    <tr>\n",
       "      <th>1</th>\n",
       "      <td>The Godfather</td>\n",
       "      <td>1972</td>\n",
       "      <td>175 min</td>\n",
       "      <td>[Crime, Drama]</td>\n",
       "      <td>0.941176</td>\n",
       "      <td>0.688207</td>\n",
       "      <td>134966411</td>\n",
       "    </tr>\n",
       "    <tr>\n",
       "      <th>2</th>\n",
       "      <td>The Dark Knight</td>\n",
       "      <td>2008</td>\n",
       "      <td>152 min</td>\n",
       "      <td>[Action, Crime, Drama]</td>\n",
       "      <td>0.823529</td>\n",
       "      <td>0.982797</td>\n",
       "      <td>534858444</td>\n",
       "    </tr>\n",
       "    <tr>\n",
       "      <th>3</th>\n",
       "      <td>The Godfather: Part II</td>\n",
       "      <td>1974</td>\n",
       "      <td>202 min</td>\n",
       "      <td>[Crime, Drama]</td>\n",
       "      <td>0.823529</td>\n",
       "      <td>0.476641</td>\n",
       "      <td>57300000</td>\n",
       "    </tr>\n",
       "    <tr>\n",
       "      <th>4</th>\n",
       "      <td>12 Angry Men</td>\n",
       "      <td>1957</td>\n",
       "      <td>96 min</td>\n",
       "      <td>[Crime, Drama]</td>\n",
       "      <td>0.823529</td>\n",
       "      <td>0.286778</td>\n",
       "      <td>4360000</td>\n",
       "    </tr>\n",
       "  </tbody>\n",
       "</table>\n",
       "</div>"
      ],
      "text/plain": [
       "               Series_Title Released_Year  Runtime                   Genre  \\\n",
       "0  The Shawshank Redemption          1994  142 min                 [Drama]   \n",
       "1             The Godfather          1972  175 min          [Crime, Drama]   \n",
       "2           The Dark Knight          2008  152 min  [Action, Crime, Drama]   \n",
       "3    The Godfather: Part II          1974  202 min          [Crime, Drama]   \n",
       "4              12 Angry Men          1957   96 min          [Crime, Drama]   \n",
       "\n",
       "   IMDB_Rating  No_of_Votes      Gross  \n",
       "0     1.000000     1.000000   28341469  \n",
       "1     0.941176     0.688207  134966411  \n",
       "2     0.823529     0.982797  534858444  \n",
       "3     0.823529     0.476641   57300000  \n",
       "4     0.823529     0.286778    4360000  "
      ]
     },
     "execution_count": 199,
     "metadata": {},
     "output_type": "execute_result"
    }
   ],
   "source": [
    "df.head()"
   ]
  },
  {
   "cell_type": "code",
   "execution_count": 183,
   "id": "16469876-0165-4767-b5f1-bda524e43baa",
   "metadata": {},
   "outputs": [
    {
     "data": {
      "text/plain": [
       "dtype('O')"
      ]
     },
     "execution_count": 183,
     "metadata": {},
     "output_type": "execute_result"
    }
   ],
   "source": [
    "df.dtypes['Gross']"
   ]
  },
  {
   "cell_type": "code",
   "execution_count": 185,
   "id": "10ffe040-4d3f-4b2f-b853-77cd2f40d7de",
   "metadata": {},
   "outputs": [
    {
     "name": "stdout",
     "output_type": "stream",
     "text": [
      "<class 'pandas.core.frame.DataFrame'>\n",
      "RangeIndex: 1000 entries, 0 to 999\n",
      "Data columns (total 7 columns):\n",
      " #   Column         Non-Null Count  Dtype  \n",
      "---  ------         --------------  -----  \n",
      " 0   Series_Title   1000 non-null   object \n",
      " 1   Released_Year  1000 non-null   object \n",
      " 2   Runtime        1000 non-null   object \n",
      " 3   Genre          1000 non-null   object \n",
      " 4   IMDB_Rating    1000 non-null   float64\n",
      " 5   No_of_Votes    1000 non-null   float64\n",
      " 6   Gross          1000 non-null   object \n",
      "dtypes: float64(2), object(5)\n",
      "memory usage: 54.8+ KB\n"
     ]
    }
   ],
   "source": [
    "df.info()"
   ]
  },
  {
   "cell_type": "code",
   "execution_count": 187,
   "id": "be5c4d6c-9db6-454b-90a5-0d2d18b5e05d",
   "metadata": {},
   "outputs": [],
   "source": [
    "df['Gross'] = df['Gross'].replace('[\\\\$,]', '', regex=True) \n",
    "df['Gross'] = pd.to_numeric(df['Gross'], errors='coerce')"
   ]
  },
  {
   "cell_type": "code",
   "execution_count": 189,
   "id": "9237f825-c9d9-49a5-9d6d-975615c62dea",
   "metadata": {},
   "outputs": [
    {
     "name": "stdout",
     "output_type": "stream",
     "text": [
      "<class 'pandas.core.frame.DataFrame'>\n",
      "RangeIndex: 1000 entries, 0 to 999\n",
      "Data columns (total 7 columns):\n",
      " #   Column         Non-Null Count  Dtype  \n",
      "---  ------         --------------  -----  \n",
      " 0   Series_Title   1000 non-null   object \n",
      " 1   Released_Year  1000 non-null   object \n",
      " 2   Runtime        1000 non-null   object \n",
      " 3   Genre          1000 non-null   object \n",
      " 4   IMDB_Rating    1000 non-null   float64\n",
      " 5   No_of_Votes    1000 non-null   float64\n",
      " 6   Gross          1000 non-null   int64  \n",
      "dtypes: float64(2), int64(1), object(4)\n",
      "memory usage: 54.8+ KB\n"
     ]
    }
   ],
   "source": [
    "df.info()"
   ]
  },
  {
   "cell_type": "code",
   "execution_count": 191,
   "id": "4e10c696-2c39-4aa7-8073-c3932c7c69fd",
   "metadata": {},
   "outputs": [
    {
     "name": "stdout",
     "output_type": "stream",
     "text": [
      "0\n"
     ]
    }
   ],
   "source": [
    "print(df['Genre'].isna().sum())"
   ]
  },
  {
   "cell_type": "code",
   "execution_count": 193,
   "id": "91caf54e-40a0-4fb3-94b7-2c5d97d8b817",
   "metadata": {},
   "outputs": [],
   "source": [
    "df['Genre'] = df['Genre'].str.split(', ')  # Just split the genres without fillna('')\n"
   ]
  },
  {
   "cell_type": "code",
   "execution_count": 195,
   "id": "75d40b94-4f05-402f-a516-91f60ae8c4bc",
   "metadata": {},
   "outputs": [
    {
     "name": "stdout",
     "output_type": "stream",
     "text": [
      "0                   [Drama]\n",
      "1            [Crime, Drama]\n",
      "2    [Action, Crime, Drama]\n",
      "3            [Crime, Drama]\n",
      "4            [Crime, Drama]\n",
      "Name: Genre, dtype: object\n"
     ]
    }
   ],
   "source": [
    "print(df['Genre'].head())"
   ]
  },
  {
   "cell_type": "code",
   "execution_count": 197,
   "id": "7c3a198d-3e90-4e1d-86bd-913f78487427",
   "metadata": {},
   "outputs": [
    {
     "data": {
      "text/html": [
       "<div>\n",
       "<style scoped>\n",
       "    .dataframe tbody tr th:only-of-type {\n",
       "        vertical-align: middle;\n",
       "    }\n",
       "\n",
       "    .dataframe tbody tr th {\n",
       "        vertical-align: top;\n",
       "    }\n",
       "\n",
       "    .dataframe thead th {\n",
       "        text-align: right;\n",
       "    }\n",
       "</style>\n",
       "<table border=\"1\" class=\"dataframe\">\n",
       "  <thead>\n",
       "    <tr style=\"text-align: right;\">\n",
       "      <th></th>\n",
       "      <th>Series_Title</th>\n",
       "      <th>Released_Year</th>\n",
       "      <th>Runtime</th>\n",
       "      <th>Genre</th>\n",
       "      <th>IMDB_Rating</th>\n",
       "      <th>No_of_Votes</th>\n",
       "      <th>Gross</th>\n",
       "    </tr>\n",
       "  </thead>\n",
       "  <tbody>\n",
       "    <tr>\n",
       "      <th>0</th>\n",
       "      <td>The Shawshank Redemption</td>\n",
       "      <td>1994</td>\n",
       "      <td>142 min</td>\n",
       "      <td>[Drama]</td>\n",
       "      <td>1.000000</td>\n",
       "      <td>1.000000</td>\n",
       "      <td>28341469</td>\n",
       "    </tr>\n",
       "    <tr>\n",
       "      <th>1</th>\n",
       "      <td>The Godfather</td>\n",
       "      <td>1972</td>\n",
       "      <td>175 min</td>\n",
       "      <td>[Crime, Drama]</td>\n",
       "      <td>0.941176</td>\n",
       "      <td>0.688207</td>\n",
       "      <td>134966411</td>\n",
       "    </tr>\n",
       "    <tr>\n",
       "      <th>2</th>\n",
       "      <td>The Dark Knight</td>\n",
       "      <td>2008</td>\n",
       "      <td>152 min</td>\n",
       "      <td>[Action, Crime, Drama]</td>\n",
       "      <td>0.823529</td>\n",
       "      <td>0.982797</td>\n",
       "      <td>534858444</td>\n",
       "    </tr>\n",
       "    <tr>\n",
       "      <th>3</th>\n",
       "      <td>The Godfather: Part II</td>\n",
       "      <td>1974</td>\n",
       "      <td>202 min</td>\n",
       "      <td>[Crime, Drama]</td>\n",
       "      <td>0.823529</td>\n",
       "      <td>0.476641</td>\n",
       "      <td>57300000</td>\n",
       "    </tr>\n",
       "    <tr>\n",
       "      <th>4</th>\n",
       "      <td>12 Angry Men</td>\n",
       "      <td>1957</td>\n",
       "      <td>96 min</td>\n",
       "      <td>[Crime, Drama]</td>\n",
       "      <td>0.823529</td>\n",
       "      <td>0.286778</td>\n",
       "      <td>4360000</td>\n",
       "    </tr>\n",
       "  </tbody>\n",
       "</table>\n",
       "</div>"
      ],
      "text/plain": [
       "               Series_Title Released_Year  Runtime                   Genre  \\\n",
       "0  The Shawshank Redemption          1994  142 min                 [Drama]   \n",
       "1             The Godfather          1972  175 min          [Crime, Drama]   \n",
       "2           The Dark Knight          2008  152 min  [Action, Crime, Drama]   \n",
       "3    The Godfather: Part II          1974  202 min          [Crime, Drama]   \n",
       "4              12 Angry Men          1957   96 min          [Crime, Drama]   \n",
       "\n",
       "   IMDB_Rating  No_of_Votes      Gross  \n",
       "0     1.000000     1.000000   28341469  \n",
       "1     0.941176     0.688207  134966411  \n",
       "2     0.823529     0.982797  534858444  \n",
       "3     0.823529     0.476641   57300000  \n",
       "4     0.823529     0.286778    4360000  "
      ]
     },
     "execution_count": 197,
     "metadata": {},
     "output_type": "execute_result"
    }
   ],
   "source": [
    "df.head()"
   ]
  },
  {
   "cell_type": "code",
   "execution_count": 201,
   "id": "fecd6829-3c34-4588-970c-131e5100a686",
   "metadata": {},
   "outputs": [
    {
     "name": "stdout",
     "output_type": "stream",
     "text": [
      "               Series_Title Released_Year  Runtime                   Genre  \\\n",
      "0  The Shawshank Redemption          1994  142 min                 [Drama]   \n",
      "1             The Godfather          1972  175 min          [Crime, Drama]   \n",
      "2           The Dark Knight          2008  152 min  [Action, Crime, Drama]   \n",
      "3    The Godfather: Part II          1974  202 min          [Crime, Drama]   \n",
      "4              12 Angry Men          1957   96 min          [Crime, Drama]   \n",
      "\n",
      "   IMDB_Rating  No_of_Votes      Gross  Action  Adventure  Animation  ...  \\\n",
      "0     1.000000     1.000000   28341469       0          0          0  ...   \n",
      "1     0.941176     0.688207  134966411       0          0          0  ...   \n",
      "2     0.823529     0.982797  534858444       1          0          0  ...   \n",
      "3     0.823529     0.476641   57300000       0          0          0  ...   \n",
      "4     0.823529     0.286778    4360000       0          0          0  ...   \n",
      "\n",
      "   Horror  Music  Musical  Mystery  Romance  Sci-Fi  Sport  Thriller  War  \\\n",
      "0       0      0        0        0        0       0      0         0    0   \n",
      "1       0      0        0        0        0       0      0         0    0   \n",
      "2       0      0        0        0        0       0      0         0    0   \n",
      "3       0      0        0        0        0       0      0         0    0   \n",
      "4       0      0        0        0        0       0      0         0    0   \n",
      "\n",
      "   Western  \n",
      "0        0  \n",
      "1        0  \n",
      "2        0  \n",
      "3        0  \n",
      "4        0  \n",
      "\n",
      "[5 rows x 28 columns]\n"
     ]
    }
   ],
   "source": [
    "from sklearn.preprocessing import MultiLabelBinarizer\n",
    "\n",
    "mlb = MultiLabelBinarizer()  # Create the encoder\n",
    "genre_encoded = pd.DataFrame(mlb.fit_transform(df['Genre']), columns=mlb.classes_)  # Transform\n",
    "\n",
    "# Merge the encoded genres back with the original dataframe\n",
    "df = df.join(genre_encoded)\n",
    "\n",
    "# Optional: Drop the original 'Genre' column if no longer needed\n",
    "# df.drop(columns=['Genre'], inplace=True)\n",
    "\n",
    "print(df.head())  # Check the updated dataframe\n"
   ]
  },
  {
   "cell_type": "code",
   "execution_count": 203,
   "id": "fbe9ad72-b4a3-4e92-a7c5-79901e57c50d",
   "metadata": {},
   "outputs": [],
   "source": [
    "num_features = df.select_dtypes(include=['int64', 'float64']).columns  # Get numeric columns\n",
    "scaler = MinMaxScaler()\n",
    "df[num_features] = scaler.fit_transform(df[num_features])"
   ]
  },
  {
   "cell_type": "code",
   "execution_count": 205,
   "id": "3fed3fbf-0387-4df0-b48f-5e320b572a9b",
   "metadata": {},
   "outputs": [
    {
     "data": {
      "text/html": [
       "<div>\n",
       "<style scoped>\n",
       "    .dataframe tbody tr th:only-of-type {\n",
       "        vertical-align: middle;\n",
       "    }\n",
       "\n",
       "    .dataframe tbody tr th {\n",
       "        vertical-align: top;\n",
       "    }\n",
       "\n",
       "    .dataframe thead th {\n",
       "        text-align: right;\n",
       "    }\n",
       "</style>\n",
       "<table border=\"1\" class=\"dataframe\">\n",
       "  <thead>\n",
       "    <tr style=\"text-align: right;\">\n",
       "      <th></th>\n",
       "      <th>Series_Title</th>\n",
       "      <th>Released_Year</th>\n",
       "      <th>Runtime</th>\n",
       "      <th>Genre</th>\n",
       "      <th>IMDB_Rating</th>\n",
       "      <th>No_of_Votes</th>\n",
       "      <th>Gross</th>\n",
       "      <th>Action</th>\n",
       "      <th>Adventure</th>\n",
       "      <th>Animation</th>\n",
       "      <th>...</th>\n",
       "      <th>Horror</th>\n",
       "      <th>Music</th>\n",
       "      <th>Musical</th>\n",
       "      <th>Mystery</th>\n",
       "      <th>Romance</th>\n",
       "      <th>Sci-Fi</th>\n",
       "      <th>Sport</th>\n",
       "      <th>Thriller</th>\n",
       "      <th>War</th>\n",
       "      <th>Western</th>\n",
       "    </tr>\n",
       "  </thead>\n",
       "  <tbody>\n",
       "    <tr>\n",
       "      <th>0</th>\n",
       "      <td>The Shawshank Redemption</td>\n",
       "      <td>1994</td>\n",
       "      <td>142 min</td>\n",
       "      <td>[Drama]</td>\n",
       "      <td>1.000000</td>\n",
       "      <td>1.000000</td>\n",
       "      <td>0.030258</td>\n",
       "      <td>0</td>\n",
       "      <td>0</td>\n",
       "      <td>0</td>\n",
       "      <td>...</td>\n",
       "      <td>0</td>\n",
       "      <td>0</td>\n",
       "      <td>0</td>\n",
       "      <td>0</td>\n",
       "      <td>0</td>\n",
       "      <td>0</td>\n",
       "      <td>0</td>\n",
       "      <td>0</td>\n",
       "      <td>0</td>\n",
       "      <td>0</td>\n",
       "    </tr>\n",
       "    <tr>\n",
       "      <th>1</th>\n",
       "      <td>The Godfather</td>\n",
       "      <td>1972</td>\n",
       "      <td>175 min</td>\n",
       "      <td>[Crime, Drama]</td>\n",
       "      <td>0.941176</td>\n",
       "      <td>0.688207</td>\n",
       "      <td>0.144093</td>\n",
       "      <td>0</td>\n",
       "      <td>0</td>\n",
       "      <td>0</td>\n",
       "      <td>...</td>\n",
       "      <td>0</td>\n",
       "      <td>0</td>\n",
       "      <td>0</td>\n",
       "      <td>0</td>\n",
       "      <td>0</td>\n",
       "      <td>0</td>\n",
       "      <td>0</td>\n",
       "      <td>0</td>\n",
       "      <td>0</td>\n",
       "      <td>0</td>\n",
       "    </tr>\n",
       "    <tr>\n",
       "      <th>2</th>\n",
       "      <td>The Dark Knight</td>\n",
       "      <td>2008</td>\n",
       "      <td>152 min</td>\n",
       "      <td>[Action, Crime, Drama]</td>\n",
       "      <td>0.823529</td>\n",
       "      <td>0.982797</td>\n",
       "      <td>0.571026</td>\n",
       "      <td>1</td>\n",
       "      <td>0</td>\n",
       "      <td>0</td>\n",
       "      <td>...</td>\n",
       "      <td>0</td>\n",
       "      <td>0</td>\n",
       "      <td>0</td>\n",
       "      <td>0</td>\n",
       "      <td>0</td>\n",
       "      <td>0</td>\n",
       "      <td>0</td>\n",
       "      <td>0</td>\n",
       "      <td>0</td>\n",
       "      <td>0</td>\n",
       "    </tr>\n",
       "    <tr>\n",
       "      <th>3</th>\n",
       "      <td>The Godfather: Part II</td>\n",
       "      <td>1974</td>\n",
       "      <td>202 min</td>\n",
       "      <td>[Crime, Drama]</td>\n",
       "      <td>0.823529</td>\n",
       "      <td>0.476641</td>\n",
       "      <td>0.061175</td>\n",
       "      <td>0</td>\n",
       "      <td>0</td>\n",
       "      <td>0</td>\n",
       "      <td>...</td>\n",
       "      <td>0</td>\n",
       "      <td>0</td>\n",
       "      <td>0</td>\n",
       "      <td>0</td>\n",
       "      <td>0</td>\n",
       "      <td>0</td>\n",
       "      <td>0</td>\n",
       "      <td>0</td>\n",
       "      <td>0</td>\n",
       "      <td>0</td>\n",
       "    </tr>\n",
       "    <tr>\n",
       "      <th>4</th>\n",
       "      <td>12 Angry Men</td>\n",
       "      <td>1957</td>\n",
       "      <td>96 min</td>\n",
       "      <td>[Crime, Drama]</td>\n",
       "      <td>0.823529</td>\n",
       "      <td>0.286778</td>\n",
       "      <td>0.004655</td>\n",
       "      <td>0</td>\n",
       "      <td>0</td>\n",
       "      <td>0</td>\n",
       "      <td>...</td>\n",
       "      <td>0</td>\n",
       "      <td>0</td>\n",
       "      <td>0</td>\n",
       "      <td>0</td>\n",
       "      <td>0</td>\n",
       "      <td>0</td>\n",
       "      <td>0</td>\n",
       "      <td>0</td>\n",
       "      <td>0</td>\n",
       "      <td>0</td>\n",
       "    </tr>\n",
       "  </tbody>\n",
       "</table>\n",
       "<p>5 rows × 28 columns</p>\n",
       "</div>"
      ],
      "text/plain": [
       "               Series_Title Released_Year  Runtime                   Genre  \\\n",
       "0  The Shawshank Redemption          1994  142 min                 [Drama]   \n",
       "1             The Godfather          1972  175 min          [Crime, Drama]   \n",
       "2           The Dark Knight          2008  152 min  [Action, Crime, Drama]   \n",
       "3    The Godfather: Part II          1974  202 min          [Crime, Drama]   \n",
       "4              12 Angry Men          1957   96 min          [Crime, Drama]   \n",
       "\n",
       "   IMDB_Rating  No_of_Votes     Gross  Action  Adventure  Animation  ...  \\\n",
       "0     1.000000     1.000000  0.030258       0          0          0  ...   \n",
       "1     0.941176     0.688207  0.144093       0          0          0  ...   \n",
       "2     0.823529     0.982797  0.571026       1          0          0  ...   \n",
       "3     0.823529     0.476641  0.061175       0          0          0  ...   \n",
       "4     0.823529     0.286778  0.004655       0          0          0  ...   \n",
       "\n",
       "   Horror  Music  Musical  Mystery  Romance  Sci-Fi  Sport  Thriller  War  \\\n",
       "0       0      0        0        0        0       0      0         0    0   \n",
       "1       0      0        0        0        0       0      0         0    0   \n",
       "2       0      0        0        0        0       0      0         0    0   \n",
       "3       0      0        0        0        0       0      0         0    0   \n",
       "4       0      0        0        0        0       0      0         0    0   \n",
       "\n",
       "   Western  \n",
       "0        0  \n",
       "1        0  \n",
       "2        0  \n",
       "3        0  \n",
       "4        0  \n",
       "\n",
       "[5 rows x 28 columns]"
      ]
     },
     "execution_count": 205,
     "metadata": {},
     "output_type": "execute_result"
    }
   ],
   "source": [
    "df.head()"
   ]
  },
  {
   "cell_type": "code",
   "execution_count": null,
   "id": "dda2cfd8-ad0b-4bfa-91ed-65cc6f3959bb",
   "metadata": {},
   "outputs": [],
   "source": []
  }
 ],
 "metadata": {
  "kernelspec": {
   "display_name": "Python [conda env:base] *",
   "language": "python",
   "name": "conda-base-py"
  },
  "language_info": {
   "codemirror_mode": {
    "name": "ipython",
    "version": 3
   },
   "file_extension": ".py",
   "mimetype": "text/x-python",
   "name": "python",
   "nbconvert_exporter": "python",
   "pygments_lexer": "ipython3",
   "version": "3.12.7"
  }
 },
 "nbformat": 4,
 "nbformat_minor": 5
}
